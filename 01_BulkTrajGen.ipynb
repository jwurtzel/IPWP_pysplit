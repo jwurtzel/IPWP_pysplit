{
 "cells": [
  {
   "cell_type": "code",
   "execution_count": 1,
   "metadata": {},
   "outputs": [],
   "source": [
    "# STEP 0: Must be done before anything each time notebook is loaded\n",
    "# Import PySplit\n",
    "import pysplit as py\n",
    "import numpy as np\n",
    "import pickle as pickle\n",
    "from pprint import pprint\n",
    "import os"
   ]
  },
  {
   "cell_type": "code",
   "execution_count": 2,
   "metadata": {},
   "outputs": [],
   "source": [
    "#directory setup\n",
    "working_dir = r'C:/hysplit4/working'\n",
    "storage_dir = r'C:/hysplit4/pysplit/sumatra'\n",
    "meteo_dir = r'E:\\ncep_monYYYY'\n",
    "# meteo_dir = r'C:\\hysplit4\\gdas'\n",
    "meteoyr_2digits = False"
   ]
  },
  {
   "cell_type": "code",
   "execution_count": null,
   "metadata": {},
   "outputs": [],
   "source": [
    "## Check if storage directory exists"
   ]
  },
  {
   "cell_type": "code",
   "execution_count": 10,
   "metadata": {},
   "outputs": [],
   "source": [
    "# STEP 1: TRAJECTORY GENERATION (not yet tested on mac)\n",
    "# check out bulk_trajen_example.py\n",
    "\n",
    "#file basename\n",
    "basename = 'sumatratest'\n",
    "\n",
    "#Arguments\n",
    "# years = [1980]\n",
    "years=range(1979,2019)\n",
    "months = [6]\n",
    "# months=range(1,13)\n",
    "hours = [19]\n",
    "altitudes = [1100]\n",
    "location = (-.36, 100.76)\n",
    "runtime = -168\n"
   ]
  },
  {
   "cell_type": "code",
   "execution_count": 15,
   "metadata": {},
   "outputs": [],
   "source": [
    "\n",
    "#Generate trajs\n",
    "py.generate_bulktraj(basename, working_dir, storage_dir, meteo_dir,\n",
    "                          years, months, hours, altitudes, location, runtime,\n",
    "                          monthslice=slice(0, 32, 6), get_reverse=True,meteoyr_2digits=False)"
   ]
  },
  {
   "cell_type": "code",
   "execution_count": null,
   "metadata": {},
   "outputs": [],
   "source": []
  }
 ],
 "metadata": {
  "kernelspec": {
   "display_name": "Python 3 (pysplitenv)",
   "language": "python",
   "name": "python3"
  },
  "language_info": {
   "codemirror_mode": {
    "name": "ipython",
    "version": 3
   },
   "file_extension": ".py",
   "mimetype": "text/x-python",
   "name": "python",
   "nbconvert_exporter": "python",
   "pygments_lexer": "ipython3",
   "version": "3.5.5"
  }
 },
 "nbformat": 4,
 "nbformat_minor": 2
}
