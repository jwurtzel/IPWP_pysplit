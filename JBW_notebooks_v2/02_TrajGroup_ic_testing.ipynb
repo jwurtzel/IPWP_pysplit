{
 "cells": [
  {
   "cell_type": "code",
   "execution_count": 1,
   "metadata": {},
   "outputs": [],
   "source": [
    "# STEP 0: Must be done before anything each time notebook is loaded\n",
    "# Import PySplit\n",
    "import pysplit as py\n",
    "import numpy as np\n",
    "import pickle as pickle\n",
    "from pprint import pprint\n",
    "import os"
   ]
  },
  {
   "cell_type": "code",
   "execution_count": 20,
   "metadata": {},
   "outputs": [
    {
     "name": "stdout",
     "output_type": "stream",
     "text": [
      "Total trajectories in group:  179\n"
     ]
    }
   ],
   "source": [
    "# INITIALISE TRAJECTORY GROUP\n",
    "# Group trajectories and then cycle through a group to determine distance, vector and rain status.\n",
    "# check out traj_trajgroup_basics_examle.py\n",
    "\n",
    "# Initialise Trajectories and Create a Trajectory Group\n",
    "trajg=[]\n",
    "trajg = py.make_trajectorygroup(r'C:/hysplit4/pysplit/sumatra_ic_test3/*1300*')\n",
    "\n",
    "#had to update hypath.py to latest version from pysplit (comment available in .py code)\n",
    "for traj in trajg:\n",
    "    traj.calculate_distance()\n",
    "    traj.calculate_vector()\n",
    "    \n",
    "print('Total trajectories in group: ',trajg.trajcount)"
   ]
  },
  {
   "cell_type": "code",
   "execution_count": 21,
   "metadata": {},
   "outputs": [
    {
     "data": {
      "text/plain": [
       "854.4290502793295"
      ]
     },
     "execution_count": 21,
     "metadata": {},
     "output_type": "execute_result"
    }
   ],
   "source": [
    "# test for initial height (850hPa)\n",
    "# average P at timestep 0 in traj group \n",
    "p_i=[]\n",
    "for traj in trajg:\n",
    "    p_i.append(traj.data['Pressure'][0])\n",
    "\n",
    "np.mean(p_i)"
   ]
  },
  {
   "cell_type": "code",
   "execution_count": 22,
   "metadata": {},
   "outputs": [
    {
     "name": "stderr",
     "output_type": "stream",
     "text": [
      "C:\\Users\\jenni\\Anaconda3\\envs\\pysplitenv\\lib\\site-packages\\pysplit\\hypath.py:187: RuntimeWarning: invalid value encountered in arccos\n",
      "  np.cos(lon[0] - lon)) * 6371) * 1000\n"
     ]
    }
   ],
   "source": [
    "# integration error filtering\n",
    "#first load reverse Traj\n",
    "for traj in trajg:\n",
    "    traj.load_reversetraj()\n",
    "#then calculate integration error\n",
    "# Values computed when calling ``Trajectory.calculate_integrationerr()``:\n",
    "#     ``Trajectory.integration_error``, the relative error (%)\n",
    "#     ``Trajectory.integration_error_abs``, the absolute error (meters)\n",
    "for traj in trajg:\n",
    "    traj.calculate_integrationerr()"
   ]
  },
  {
   "cell_type": "code",
   "execution_count": 23,
   "metadata": {},
   "outputs": [
    {
     "name": "stdout",
     "output_type": "stream",
     "text": [
      "0.002665424673300689\n",
      "0.011680283760709618\n",
      "0.0018109390268980746\n",
      "0.002958353972853913\n",
      "0.005469286713649229\n",
      "0.0036995919591066503\n",
      "0.7337370631849542\n",
      "0.0033523823978149183\n",
      "0.004239365146295249\n",
      "0.007248181096920348\n",
      "0.03237369226344971\n",
      "0.005904185117240831\n",
      "0.0047133596148104355\n",
      "0.002616888066952887\n",
      "0.007644547046994385\n",
      "0.0035129602612340325\n",
      "0.005495418782780535\n",
      "0.002312875937081666\n",
      "0.0102866027693863\n",
      "0.02759237494792518\n",
      "0.004404231244212474\n",
      "0.3335213352074967\n",
      "0.002570757168950301\n",
      "0.003407772529966432\n",
      "0.009013388003807424\n",
      "0.0017350680006570905\n",
      "0.06236315499367823\n",
      "0.011313294511983854\n",
      "0.0062550789564374066\n",
      "0.011029175049035217\n",
      "0.00902530462192924\n",
      "0.0008634614447615678\n",
      "0.016056400916119637\n",
      "0.02128883278727512\n",
      "0.008614567051588834\n",
      "0.006492090948869334\n",
      "0.003154346052878872\n",
      "0.009051012562775736\n",
      "0.0020345879103940197\n",
      "0.07654566487157526\n",
      "0.0013311664703971567\n",
      "0.012454013276590022\n",
      "0.0016827248503012903\n",
      "0.004768410501117323\n",
      "0.007238674956717007\n",
      "0.021360931789834118\n",
      "0.0024191911536847878\n",
      "6.937460045640703e-07\n",
      "0.0006635939285484961\n",
      "0.012542494786208749\n",
      "0.006561532670249397\n",
      "0.001755650351290744\n",
      "0.004949594494600749\n",
      "0.008770984063207077\n",
      "0.005508470382613071\n",
      "0.0038614356075063186\n",
      "0.0022879817939170256\n",
      "0.018215207652501786\n",
      "0.007442672729850942\n",
      "0.008880337469670272\n",
      "0.013730588789590683\n",
      "0.12060604458850521\n",
      "8.820522629522428e-07\n",
      "0.007486994752091387\n",
      "0.013507377249535879\n",
      "0.0028182522795382656\n",
      "0.0019286101144813694\n",
      "6.05222171023641e-07\n",
      "0.011766875639307844\n",
      "0.003162969773638882\n",
      "0.005581773193968561\n",
      "0.002374177394625874\n",
      "0.14021885056964553\n",
      "0.005165025948100846\n",
      "0.002815239232688771\n",
      "0.0020653557641768664\n",
      "0.003423975578520452\n",
      "0.010281288875934208\n",
      "8.747737723114342e-07\n",
      "0.0058971689838373895\n",
      "0.0017405377902645477\n",
      "0.0024639920420556844\n",
      "0.001361137651963817\n",
      "0.00281189846827039\n",
      "0.010385626316173414\n",
      "0.012471023235050168\n",
      "0.009381941578190795\n",
      "0.00286637784796697\n",
      "0.005557745764387505\n",
      "0.009852793308151614\n",
      "0.0047604912164140745\n",
      "0.004248320441269542\n",
      "0.03045118547416688\n",
      "0.005527858924056601\n",
      "0.0974950847568039\n",
      "0.006410170823504582\n",
      "0.006360955193759492\n",
      "0.011270829007127519\n",
      "0.0014656797586727398\n",
      "0.0011605236888222556\n",
      "0.0029496257808120743\n",
      "4.195788534344127e-07\n",
      "0.0012858654049668393\n",
      "0.0034454942080840902\n",
      "0.004065185385830049\n",
      "0.0007717287144258943\n",
      "0.0008853843451183215\n",
      "0.0015312526470376347\n",
      "0.0007742351259882523\n",
      "0.0005357711439850257\n",
      "0.0017139625130397215\n",
      "0.0018324056478873612\n",
      "0.0013417752147984216\n",
      "0.01151216542354336\n",
      "0.0024573893264699734\n",
      "0.002225721223233406\n",
      "0.0022767199497302805\n",
      "0.011833060070454204\n",
      "0.08012798485236876\n",
      "0.007429439818842875\n",
      "1.8352919284882812\n",
      "0.11030384723931894\n",
      "2.5408383926239986\n",
      "0.0018408967615548269\n",
      "0.0013332621895871344\n",
      "0.007524608900137453\n",
      "0.003348030656075619\n",
      "1.8720084537037587\n",
      "15.356254870539113\n",
      "23.085225737851456\n",
      "0.006610717951248976\n",
      "18.656781052723712\n",
      "0.011739976885652441\n",
      "4.62756088564901\n",
      "0.010166739981357606\n",
      "0.06238897430504155\n",
      "5.948360551145902\n",
      "3.555997667865935\n",
      "1.6867148315859484\n",
      "0.006731065514918255\n",
      "14.191207015376698\n",
      "1.591049250472204\n",
      "9.811695839175735\n",
      "0.018034239359847184\n",
      "0.006240381118215468\n",
      "0.008497954226962902\n",
      "4.428728107683435\n",
      "12.265623689253465\n",
      "0.006158905599925718\n",
      "0.006335863734675422\n",
      "14.316988476745788\n",
      "0.0011840365176226803\n",
      "6.085679922759666e-07\n",
      "0.005995074327984883\n",
      "0.005979305373930971\n",
      "0.0038198617929991615\n",
      "0.006518719885067582\n",
      "0.0010660161172369772\n",
      "0.003776558942796228\n",
      "0.002898169652452481\n",
      "4.601668565410243\n",
      "0.001854108730364502\n",
      "0.003707027986747257\n",
      "0.002769984468721308\n",
      "0.0007029120466815166\n",
      "11.25429736619009\n",
      "0.0017609453854427646\n",
      "0.0021208581724169407\n",
      "0.007894369590144392\n",
      "0.005141239665038392\n",
      "7.058161692304068e-07\n",
      "0.023850234159915457\n",
      "0.001404262947530713\n",
      "5.118822878415029e-07\n",
      "0.002585038450306129\n",
      "0.0010882256832208733\n",
      "0.0009013838450223914\n",
      "0.009503138890904353\n",
      "0.004229122473582569\n"
     ]
    }
   ],
   "source": [
    "for traj in trajg:\n",
    "    print(traj.integration_error)\n",
    "    \n",
    "# [traj.integration_error for traj in trajg]"
   ]
  },
  {
   "cell_type": "code",
   "execution_count": 24,
   "metadata": {},
   "outputs": [
    {
     "name": "stdout",
     "output_type": "stream",
     "text": [
      "Integration error upper limit:  7.366431955571946\n"
     ]
    }
   ],
   "source": [
    "# Once we can have these values, one action we can take is to discard the \"bad\"\n",
    "# trajectories.  A reasonable way to define \"bad\" trajectories are those with\n",
    "# integration errors greater than two standard deviations above the mean:\n",
    "\n",
    "relative_errors = [traj.integration_error for traj in trajg]\n",
    "cutoff = np.mean(relative_errors) + (np.std(relative_errors) * 2)\n",
    "\n",
    "print('Integration error upper limit: ', cutoff)"
   ]
  },
  {
   "cell_type": "code",
   "execution_count": 25,
   "metadata": {},
   "outputs": [
    {
     "name": "stdout",
     "output_type": "stream",
     "text": [
      "Expectation:  179 trajectories - 8 bad trajectories = 171 trajectories\n",
      "Result:  171 trajectories\n"
     ]
    }
   ],
   "source": [
    "# With this data, we can cycle through ``trajgroup`` and either identify \"good\"\n",
    "# trajectories to put in a new ``TrajectoryGroup``\n",
    "# (see ``traj_trajgroup_basics_example.py``), or, as below, identify \"bad\"\n",
    "# trajectories to remove from ``trajgroup``.  In this example, we make a list of\n",
    "# the identifiers (``Trajectory.trajid``) of \"bad\" trajectories, then pass the\n",
    "# list to the ``TrajectoryGroup.pop()`` method, which removes the indicated\n",
    "# trajectories from ``trajgroup``.\n",
    "\n",
    "# ``TrajectoryGroup.pop()`` accepts a list of ``Trajectory.trajid``, a single \n",
    "# ``Trajectory.trajid``, or an index.  If none of the above are specified it\n",
    "# defaults to the last ``Trajectory`` in ``TrajectoryGroup``.  As with\n",
    "# ``list.pop()``, performing ``TrajectoryGroup.pop()``while iterating over\n",
    "# ``TrajectoryGroup`` will lead to unexpected behavior. \n",
    "\n",
    "# ``TrajectoryGroup.pop()`` returns a ``Trajectory``, if one\n",
    "# ``Trajectory.trajid`` or an index is given, or a ``TrajectoryGroup``,\n",
    "# if given a list of ``Trajectory.trajid``.\n",
    "\n",
    "bad = []\n",
    "for traj in trajg:\n",
    "    if traj.integration_error > cutoff:\n",
    "        bad.append(traj.trajid)\n",
    "\n",
    "print('Expectation: ', trajg.trajcount, 'trajectories -', len(bad),\n",
    "      'bad trajectories =', trajg.trajcount-len(bad), 'trajectories')\n",
    "\n",
    "trajg.pop(trajid=bad)\n",
    "\n",
    "print('Result: ', trajg.trajcount, 'trajectories')\n",
    "\n",
    "# for traj in trajgroup:\n",
    "#     print(traj.integration_error)"
   ]
  },
  {
   "cell_type": "code",
   "execution_count": null,
   "metadata": {},
   "outputs": [],
   "source": [
    "#list of rainy traj\n",
    "rainylist = []\n",
    "\n",
    "for traj in trajg:\n",
    "    traj.set_rainstatus()\n",
    "    if traj.rainy:\n",
    "        rainylist.append(traj)\n",
    "        \n",
    "rainy_trajgroup = py.TrajectoryGroup(rainylist)\n",
    "print('Total trajectories in group: ',rainy_trajgroup.trajcount)"
   ]
  },
  {
   "cell_type": "code",
   "execution_count": null,
   "metadata": {},
   "outputs": [],
   "source": [
    "# moisture uptake\n",
    "moisture = []\n",
    "for traj in rainy_trajgroup:\n",
    "    traj.moisture_uptake(precipitation=-0.2,evaporation=0.2,interval=3)\n",
    "    moisture.append(traj)"
   ]
  },
  {
   "cell_type": "code",
   "execution_count": null,
   "metadata": {},
   "outputs": [],
   "source": []
  },
  {
   "cell_type": "code",
   "execution_count": null,
   "metadata": {},
   "outputs": [],
   "source": [
    "moisture[1].uptake"
   ]
  },
  {
   "cell_type": "code",
   "execution_count": null,
   "metadata": {},
   "outputs": [],
   "source": [
    "list(trajg[5].data)"
   ]
  },
  {
   "cell_type": "code",
   "execution_count": null,
   "metadata": {},
   "outputs": [],
   "source": [
    "trajg[5].data['Rainfall'][0]"
   ]
  },
  {
   "cell_type": "code",
   "execution_count": null,
   "metadata": {},
   "outputs": [],
   "source": [
    "type(trajg[5].data)"
   ]
  },
  {
   "cell_type": "code",
   "execution_count": null,
   "metadata": {},
   "outputs": [],
   "source": []
  }
 ],
 "metadata": {
  "kernelspec": {
   "display_name": "Python 3 (pysplitenv)",
   "language": "python",
   "name": "python3"
  },
  "language_info": {
   "codemirror_mode": {
    "name": "ipython",
    "version": 3
   },
   "file_extension": ".py",
   "mimetype": "text/x-python",
   "name": "python",
   "nbconvert_exporter": "python",
   "pygments_lexer": "ipython3",
   "version": "3.5.5"
  }
 },
 "nbformat": 4,
 "nbformat_minor": 2
}
