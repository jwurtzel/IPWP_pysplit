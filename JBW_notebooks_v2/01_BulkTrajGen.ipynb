{
 "cells": [
  {
   "cell_type": "code",
   "execution_count": 24,
   "metadata": {},
   "outputs": [],
   "source": [
    "# STEP 0: Must be done before anything each time notebook is loaded\n",
    "# Import PySplit\n",
    "import pysplit as py\n",
    "import numpy as np\n",
    "import pickle as pickle\n",
    "from pprint import pprint\n",
    "import os"
   ]
  },
  {
   "cell_type": "code",
   "execution_count": 25,
   "metadata": {},
   "outputs": [],
   "source": [
    "#directory setup\n",
    "\n",
    "#file basename\n",
    "basename = 'sumatra_ic_test4' ## file base name for run, use something descriptive?\n",
    "\n",
    "working_dir = r'C:/hysplit4/working'\n",
    "#storage directory using file base name (or specify a different directory name manually)\n",
    "storage_dir = os.path.join(r'C:/hysplit4/pysplit',basename) \n",
    "meteo_dir = r'E:/ncep_monYYYY'\n",
    "# meteo_dir = r'E:\\gdas'\n",
    "# meteoyr_2digits = False\n",
    "\n",
    "\n",
    "## Check if storage directory exists and create it if not\n",
    "if not os.path.exists(storage_dir):\n",
    "    os.makedirs(storage_dir)\n"
   ]
  },
  {
   "cell_type": "code",
   "execution_count": 28,
   "metadata": {},
   "outputs": [],
   "source": [
    "# STEP 1: TRAJECTORY GENERATION (not yet tested on mac)\n",
    "# check out bulk_trajen_example.py\n",
    "\n",
    "#Arguments\n",
    "years = [1995,2005]\n",
    "# years=range(1979,2019)\n",
    "# months = [1,4,7,11]\n",
    "months=range(1,13)\n",
    "hours = [5]\n",
    "altitudes = [1350]\n",
    "location = (-0.36, 100.76)\n",
    "runtime = -168\n"
   ]
  },
  {
   "cell_type": "code",
   "execution_count": 27,
   "metadata": {},
   "outputs": [],
   "source": [
    "\n",
    "#Generate trajs\n",
    "py.generate_bulktraj(basename, working_dir, storage_dir, meteo_dir,\n",
    "                          years, months, hours, altitudes, location, runtime, meteoyr_2digits=False,\n",
    "                          monthslice=slice(5, 30, 5), meteo_bookends=([0],[0]), get_reverse=True,get_clipped=True)"
   ]
  },
  {
   "cell_type": "code",
   "execution_count": null,
   "metadata": {},
   "outputs": [],
   "source": []
  },
  {
   "cell_type": "code",
   "execution_count": null,
   "metadata": {},
   "outputs": [],
   "source": []
  }
 ],
 "metadata": {
  "kernelspec": {
   "display_name": "Python 3 (pysplitenv)",
   "language": "python",
   "name": "python3"
  },
  "language_info": {
   "codemirror_mode": {
    "name": "ipython",
    "version": 3
   },
   "file_extension": ".py",
   "mimetype": "text/x-python",
   "name": "python",
   "nbconvert_exporter": "python",
   "pygments_lexer": "ipython3",
   "version": "3.5.5"
  }
 },
 "nbformat": 4,
 "nbformat_minor": 2
}
