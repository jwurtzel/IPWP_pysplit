{
 "cells": [
  {
   "cell_type": "code",
   "execution_count": 17,
   "metadata": {},
   "outputs": [],
   "source": [
    "# STEP 0: Must be done before anything each time notebook is loaded\n",
    "# Import PySplit\n",
    "import pysplit as py\n",
    "import numpy as np\n",
    "import pickle as pickle\n",
    "from pprint import pprint\n",
    "import os"
   ]
  },
  {
   "cell_type": "code",
   "execution_count": 18,
   "metadata": {},
   "outputs": [],
   "source": [
    "#directory setup\n",
    "\n",
    "#file basename\n",
    "basename = 'sumatra_test1' ## file base name for run, use something descriptive?\n",
    "\n",
    "working_dir = r'C:/hysplit4/working'\n",
    "#storage directory using file base name (or specify a different directory name manually)\n",
    "storage_dir = os.path.join(r'C:/hysplit4/pysplit',basename) \n",
    "meteo_dir = r'E:\\nceptest2p3'\n",
    "# meteo_dir = r'E:\\gdas'\n",
    "# meteoyr_2digits = False\n",
    "\n",
    "\n",
    "## Check if storage directory exists and create it if not\n",
    "if not os.path.exists(storage_dir):\n",
    "    os.makedirs(storage_dir)\n"
   ]
  },
  {
   "cell_type": "code",
   "execution_count": 19,
   "metadata": {},
   "outputs": [],
   "source": [
    "# STEP 1: TRAJECTORY GENERATION (not yet tested on mac)\n",
    "# check out bulk_trajen_example.py\n",
    "\n",
    "#Arguments\n",
    "years = [2010]\n",
    "# years=range(1979,2019)\n",
    "months = [4,5]\n",
    "# months=range(1,13)\n",
    "hours = [17]\n",
    "altitudes = [1100]\n",
    "location = (-0.36, 100.76)\n",
    "runtime = -168\n"
   ]
  },
  {
   "cell_type": "code",
   "execution_count": 20,
   "metadata": {},
   "outputs": [],
   "source": [
    "\n",
    "#Generate trajs\n",
    "py.generate_bulktraj(basename, working_dir, storage_dir, meteo_dir,\n",
    "                          years, months, hours, altitudes, location, runtime,\n",
    "                          monthslice=slice(0, 32, 1), meteo_bookends=([0],[0]), get_reverse=True,meteoyr_2digits=False)"
   ]
  },
  {
   "cell_type": "code",
   "execution_count": null,
   "metadata": {},
   "outputs": [],
   "source": []
  }
 ],
 "metadata": {
  "kernelspec": {
   "display_name": "Python(pysplitenv36)",
   "language": "python",
   "name": "pysplitenv36"
  },
  "language_info": {
   "codemirror_mode": {
    "name": "ipython",
    "version": 3
   },
   "file_extension": ".py",
   "mimetype": "text/x-python",
   "name": "python",
   "nbconvert_exporter": "python",
   "pygments_lexer": "ipython3",
   "version": "3.6.5"
  }
 },
 "nbformat": 4,
 "nbformat_minor": 2
}
