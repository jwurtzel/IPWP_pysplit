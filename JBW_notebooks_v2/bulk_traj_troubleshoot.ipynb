{
 "cells": [
  {
   "cell_type": "code",
   "execution_count": 76,
   "metadata": {},
   "outputs": [],
   "source": [
    "# STEP 0: Must be done before anything each time notebook is loaded\n",
    "# Import PySplit\n",
    "import pysplit as py\n",
    "import numpy as np\n",
    "import pickle as pickle\n",
    "from pprint import pprint\n",
    "import os\n",
    "import fnmatch"
   ]
  },
  {
   "cell_type": "code",
   "execution_count": 79,
   "metadata": {},
   "outputs": [],
   "source": [
    "\n",
    "#directory setup#direct \n",
    "working_dir = r'C:/hysplit4/working'\n",
    "storage_dir = r'C:/hysplit4/pysplit/sumatra'\n",
    "meteo_dir = r'E:\\nceptest2p3'\n",
    "# meteo_dir = r'C:\\hysplit4\\gdas'\n",
    "meteoyr_2digits = False\n",
    "meteo_bookends=([0], [0])"
   ]
  },
  {
   "cell_type": "code",
   "execution_count": 80,
   "metadata": {},
   "outputs": [
    {
     "data": {
      "text/plain": [
       "['renamerpmonYYYY_n.sh',\n",
       " 'RPapr2010_0',\n",
       " 'RPaug2010_0',\n",
       " 'RPdec2010_0',\n",
       " 'RPfeb2010_0',\n",
       " 'RPjan2010_0',\n",
       " 'RPjul2010_0',\n",
       " 'RPjun2010_0',\n",
       " 'RPmar2010_0',\n",
       " 'RPmay2010_0',\n",
       " 'RPnov2010_0',\n",
       " 'RPoct2010_0',\n",
       " 'RPsep2010_0']"
      ]
     },
     "execution_count": 80,
     "metadata": {},
     "output_type": "execute_result"
    }
   ],
   "source": [
    "os.listdir(meteo_dir)"
   ]
  },
  {
   "cell_type": "code",
   "execution_count": 81,
   "metadata": {},
   "outputs": [],
   "source": [
    "# STEP 1: TRAJECTORY GENERATION (not yet tested on mac)\n",
    "# check out bulk_trajen_example.py\n",
    "\n",
    "#file basename\n",
    "basename = 'sumatratest'\n",
    "\n",
    "#Arguments\n",
    "years = [2010]\n",
    "# years=range(1979,2019)\n",
    "months = [10]\n",
    "# months=range(1,13)\n",
    "hours = [10]\n",
    "altitudes = [1100]\n",
    "location = (5.36, 100.76)\n",
    "runtime = -48"
   ]
  },
  {
   "cell_type": "code",
   "execution_count": 82,
   "metadata": {},
   "outputs": [],
   "source": [
    "def _mondict(n_hem=True):\n",
    "    if n_hem:\n",
    "        season_month_dict = {12: ['winter', 'dec'],\n",
    "                             1 : ['winter', 'jan'],\n",
    "                             2 : ['winter', 'feb'],\n",
    "                             3 : ['spring', 'mar'],\n",
    "                             4 : ['spring', 'apr'],\n",
    "                             5 : ['spring', 'may'],\n",
    "                             6 : ['summer', 'jun'],\n",
    "                             7 : ['summer', 'jul'],\n",
    "                             8 : ['summer', 'aug'],\n",
    "                             9 : ['autumn', 'sep'],\n",
    "                             10: ['autumn', 'oct'],\n",
    "                             11: ['autumn', 'nov']}\n",
    "    else:\n",
    "        season_month_dict = {12: ['summer', 'dec'],\n",
    "                             1 : ['summer', 'jan'],\n",
    "                             2 : ['summer', 'feb'],\n",
    "                             3 : ['autumn', 'mar'],\n",
    "                             4 : ['autumn', 'apr'],\n",
    "                             5 : ['autumn', 'may'],\n",
    "                             6 : ['winter', 'jun'],\n",
    "                             7 : ['winter', 'jul'],\n",
    "                             8 : ['winter', 'aug'],\n",
    "                             9 : ['spring', 'sep'],\n",
    "                             10: ['spring', 'oct'],\n",
    "                             11: ['spring', 'nov']}\n",
    "\n",
    "    return season_month_dict"
   ]
  },
  {
   "cell_type": "code",
   "execution_count": 83,
   "metadata": {},
   "outputs": [],
   "source": [
    "# Initialize dictionary of months, seasons\n",
    "n_hemisphere = True\n",
    "if location[0] < 0:\n",
    "    n_hemisphere = False\n",
    "\n",
    "mon_dict = _mondict(n_hem=n_hemisphere)\n"
   ]
  },
  {
   "cell_type": "code",
   "execution_count": 84,
   "metadata": {},
   "outputs": [],
   "source": [
    "    # Get the strings that will match files for the previous, next,\n",
    "    # and current months\n",
    "   # Set year formatting in 3 places\n",
    "def _year2string(year):\n",
    "        return '{0:02}'.format(year % 100)\n",
    "    meteoyr_2digits = False\n",
    "    yr_is2digits = {True : _year2string,\n",
    "                    False : str}\n",
    "    \n",
    "    controlyearfunc = yr_is2digits[True]\n",
    "    meteoyearfunc = yr_is2digits[meteoyr_2digits]"
   ]
  },
  {
   "cell_type": "code",
   "execution_count": 96,
   "metadata": {},
   "outputs": [],
   "source": [
    "mon=6\n",
    "year=2010\n",
    "def _monyearstrings(mon, year, mon_dict, meteoyearfunc):\n",
    "        next_year = year\n",
    "        prev_year = year\n",
    "\n",
    "        next_mon = mon + 1\n",
    "        prev_mon = mon - 1\n",
    "\n",
    "        if prev_mon == 0:\n",
    "            prev_mon = 12\n",
    "            prev_year = year - 1\n",
    "        if next_mon == 13:\n",
    "            next_mon = 1\n",
    "            next_year = year + 1\n",
    "\n",
    "        w = '*'\n",
    "\n",
    "        prv = w + mon_dict[prev_mon][1] + w + meteoyearfunc(prev_year) + w\n",
    "        nxt = w + mon_dict[next_mon][1] + w + meteoyearfunc(next_year) + w\n",
    "        now = w + mon_dict[mon][1] + w + meteoyearfunc(year) + w\n",
    "\n",
    "        return prv, nxt, now"
   ]
  },
  {
   "cell_type": "code",
   "execution_count": 91,
   "metadata": {},
   "outputs": [],
   "source": [
    "mon=6\n",
    "year=2010\n",
    "def _meteofinder(meteo_dir, meteo_bookends, mon, year, mon_dict,\n",
    "                 meteoyearfunc):\n",
    "#     \"\"\"\n",
    "#     Get list of meteorology files.\n",
    "#     Creates list of files in storage location ``meteo_dir`` that belong\n",
    "#     to the given month and year, plus the necessary files from previous\n",
    "#     and the next months (``meteo_bookends``).\n",
    "#     For successful meteofinding, separate different meteorology types into\n",
    "#     different folders and name weekly or semi-monthly files according to the\n",
    "#     following convention:\n",
    "#         *mon*YY*#\n",
    "#     where the * represents a Bash wildcard.\n",
    "#     Parameters\n",
    "#     ----------\n",
    "#     meteo_dir : string\n",
    "#         Full or relative path to the location of the meteorology files.\n",
    "#     meteo_bookends : tuple of lists of ints\n",
    "#         To calculate a month of trajectories, files from the previous and next\n",
    "#         month must be included.  This indicates which file numbers from the\n",
    "#         previous month and which from the next month are necessary.\n",
    "#         The user is responsible for making sure the correct bookends for their\n",
    "#         trajectory length and meteorology file periods are provided.\n",
    "#     mon : int\n",
    "#         The integer representation of the current month.  Converted to a\n",
    "#         3-letter string to find meteorology files.\n",
    "#     year : int\n",
    "#         The integer representation of the current year.  Converted to a length\n",
    "#         2 string to find meteorology files.\n",
    "#     mon_dict : dictionary\n",
    "#         Dictionary keyed by month integer, with lists of [season, mon]\n",
    "#     meteoyearfunc : function\n",
    "#         Function that formats the year string to length 2 or 4 to identify\n",
    "#         appropriate meteorology files\n",
    "#     Returns\n",
    "#     -------\n",
    "#     meteofiles : list of strings\n",
    "#         List of strings representing the names of the required\n",
    "#         meteorology files\n",
    "#     \"\"\"\n",
    "    # Current working directory set in generate_bulktraj() environment\n",
    "    orig_dir = os.getcwd()\n",
    "\n",
    "    # Initialize lists, count\n",
    "    meteofiles = []\n",
    "    file_number = -1\n",
    "\n",
    "    # Get the strings that will match files for the previous, next,\n",
    "    # and current months\n",
    "    prv, nxt, now = _monyearstrings(mon, year, mon_dict, meteoyearfunc)\n",
    "\n",
    "    # Change directory and walk through files\n",
    "    try:\n",
    "        os.chdir(meteo_dir)\n",
    "\n",
    "        _, _, files = next(os.walk('.'))\n",
    "\n",
    "        # Order of files to CONTROL doesn't matter\n",
    "        for each_file in files:\n",
    "            if fnmatch.fnmatch(each_file, now):\n",
    "                meteofiles.append(each_file)\n",
    "            elif fnmatch.fnmatch(each_file, prv):\n",
    "                if int(each_file[file_number]) in meteo_bookends[0]:\n",
    "                    meteofiles.append(each_file)\n",
    "            elif fnmatch.fnmatch(each_file, nxt):\n",
    "                if int(each_file[file_number]) in meteo_bookends[1]:\n",
    "                    meteofiles.append(each_file)\n",
    "\n",
    "    finally:\n",
    "        os.chdir(orig_dir)\n",
    "\n",
    "    num_files = len(meteofiles)\n",
    "\n",
    "    if num_files == 0:\n",
    "        raise OSError('0 files found for month/year %(mon)d / %(year)d'\n",
    "                      %{'mon': mon, 'year': year})\n",
    "        \n",
    "    if num_files > 12:\n",
    "        print(meteofiles)\n",
    "        raise OSError('%(f)d files found for month/year %(mon)d / %(year)d.'\\\n",
    "                      '  Maximum 12 allowed.  If wrong years are included, '\\\n",
    "                      'identify files by 4 digit years (meteoyr_2digits=True).'\\\n",
    "                      '  May require renaming meteorology files.'\n",
    "                      %{'f': num_files, 'mon': mon, 'year': year})\n",
    "\n",
    "    return meteofiles\n"
   ]
  },
  {
   "cell_type": "code",
   "execution_count": 103,
   "metadata": {},
   "outputs": [
    {
     "data": {
      "text/plain": [
       "['RPjul2010_0', 'RPjun2010_0', 'RPmay2010_0']"
      ]
     },
     "execution_count": 103,
     "metadata": {},
     "output_type": "execute_result"
    }
   ],
   "source": [
    " # Assemble list of meteorology files\n",
    "m=6\n",
    "y=2010\n",
    "\n",
    "meteofiles = _meteofinder(meteo_dir, meteo_bookends, m, y,\n",
    "                          mon_dict, meteoyearfunc)\n",
    "meteofiles"
   ]
  },
  {
   "cell_type": "code",
   "execution_count": 101,
   "metadata": {},
   "outputs": [
    {
     "ename": "TypeError",
     "evalue": "can only concatenate list (not \"int\") to list",
     "output_type": "error",
     "traceback": [
      "\u001b[1;31m---------------------------------------------------------------------------\u001b[0m",
      "\u001b[1;31mTypeError\u001b[0m                                 Traceback (most recent call last)",
      "\u001b[1;32m<ipython-input-101-cea6b6b01e0a>\u001b[0m in \u001b[0;36m<module>\u001b[1;34m()\u001b[0m\n\u001b[1;32m----> 1\u001b[1;33m \u001b[0mprv\u001b[0m\u001b[1;33m,\u001b[0m \u001b[0mnxt\u001b[0m\u001b[1;33m,\u001b[0m \u001b[0mnow\u001b[0m \u001b[1;33m=\u001b[0m \u001b[0m_monyearstrings\u001b[0m\u001b[1;33m(\u001b[0m\u001b[0mmon\u001b[0m\u001b[1;33m,\u001b[0m \u001b[0myear\u001b[0m\u001b[1;33m,\u001b[0m \u001b[0mmon_dict\u001b[0m\u001b[1;33m,\u001b[0m \u001b[0mmeteoyearfunc\u001b[0m\u001b[1;33m)\u001b[0m\u001b[1;33m\u001b[0m\u001b[0m\n\u001b[0m\u001b[0;32m      2\u001b[0m \u001b[0mprv\u001b[0m\u001b[1;33m,\u001b[0m\u001b[0mnxt\u001b[0m\u001b[1;33m,\u001b[0m\u001b[0mnow\u001b[0m\u001b[1;33m\u001b[0m\u001b[0m\n",
      "\u001b[1;32m<ipython-input-96-856db487a74d>\u001b[0m in \u001b[0;36m_monyearstrings\u001b[1;34m(mon, year, mon_dict, meteoyearfunc)\u001b[0m\n\u001b[0;32m      5\u001b[0m         \u001b[0mprev_year\u001b[0m \u001b[1;33m=\u001b[0m \u001b[0myear\u001b[0m\u001b[1;33m\u001b[0m\u001b[0m\n\u001b[0;32m      6\u001b[0m \u001b[1;33m\u001b[0m\u001b[0m\n\u001b[1;32m----> 7\u001b[1;33m         \u001b[0mnext_mon\u001b[0m \u001b[1;33m=\u001b[0m \u001b[0mmon\u001b[0m \u001b[1;33m+\u001b[0m \u001b[1;36m1\u001b[0m\u001b[1;33m\u001b[0m\u001b[0m\n\u001b[0m\u001b[0;32m      8\u001b[0m         \u001b[0mprev_mon\u001b[0m \u001b[1;33m=\u001b[0m \u001b[0mmon\u001b[0m \u001b[1;33m-\u001b[0m \u001b[1;36m1\u001b[0m\u001b[1;33m\u001b[0m\u001b[0m\n\u001b[0;32m      9\u001b[0m \u001b[1;33m\u001b[0m\u001b[0m\n",
      "\u001b[1;31mTypeError\u001b[0m: can only concatenate list (not \"int\") to list"
     ]
    }
   ],
   "source": [
    "prv, nxt, now = _monyearstrings(mon, year, mon_dict, meteoyearfunc)\n",
    "prv,nxt,now\n"
   ]
  },
  {
   "cell_type": "code",
   "execution_count": 88,
   "metadata": {},
   "outputs": [
    {
     "data": {
      "text/plain": [
       "'l'"
      ]
     },
     "execution_count": 88,
     "metadata": {},
     "output_type": "execute_result"
    }
   ],
   "source": [
    "each_file[-1]"
   ]
  },
  {
   "cell_type": "code",
   "execution_count": 89,
   "metadata": {},
   "outputs": [
    {
     "name": "stdout",
     "output_type": "stream",
     "text": [
      "h\n",
      "0\n",
      "0\n",
      "0\n",
      "0\n",
      "0\n",
      "0\n",
      "RPjul2010_0\n",
      "0\n",
      "RPjun2010_0\n",
      "0\n",
      "0\n",
      "RPmay2010_0\n",
      "0\n",
      "0\n",
      "0\n"
     ]
    }
   ],
   "source": [
    "\n",
    "os.chdir(meteo_dir)\n",
    "\n",
    "_, _, files = next(os.walk('.'))\n",
    "file_number=-1\n",
    "#         Order of files to CONTROL doesn't matter\n",
    "for each_file in files:\n",
    "    print(each_file[-1])\n",
    "    if fnmatch.fnmatch(each_file, now):\n",
    "        print(each_file)\n",
    "\n",
    "    elif fnmatch.fnmatch(each_file, prv):\n",
    "        if int(each_file[file_number]) in meteo_bookends[0]:\n",
    "            print(each_file)\n",
    "            \n",
    "    elif fnmatch.fnmatch(each_file, nxt):\n",
    "        if int(each_file[file_number]) in meteo_bookends[1]:\n",
    "            print(each_file)"
   ]
  },
  {
   "cell_type": "code",
   "execution_count": 44,
   "metadata": {},
   "outputs": [
    {
     "data": {
      "text/plain": [
       "['renamerpmonYYYY_n.sh',\n",
       " 'RPapr2010_0.gbl',\n",
       " 'RPaug2010_0.gbl',\n",
       " 'RPfeb2010_0.gbl',\n",
       " 'RPjan2010_0.gbl',\n",
       " 'RPjul2010_0.gbl',\n",
       " 'RPjun2010_0.gbl',\n",
       " 'RPmar2010_0.gbl',\n",
       " 'RPmay2010_0.gbl',\n",
       " 'RPnov2010_0.gbl',\n",
       " 'RPoct2010_0.gbl',\n",
       " 'RPsep2010_0.gbl']"
      ]
     },
     "execution_count": 44,
     "metadata": {},
     "output_type": "execute_result"
    }
   ],
   "source": [
    "files"
   ]
  },
  {
   "cell_type": "code",
   "execution_count": 5,
   "metadata": {},
   "outputs": [
    {
     "ename": "ValueError",
     "evalue": "invalid literal for int() with base 10: 'l'",
     "output_type": "error",
     "traceback": [
      "\u001b[1;31m---------------------------------------------------------------------------\u001b[0m",
      "\u001b[1;31mValueError\u001b[0m                                Traceback (most recent call last)",
      "\u001b[1;32m<ipython-input-5-297d4d76eb56>\u001b[0m in \u001b[0;36m<module>\u001b[1;34m()\u001b[0m\n\u001b[0;32m      2\u001b[0m py.generate_bulktraj(basename, working_dir, storage_dir, meteo_dir,\n\u001b[0;32m      3\u001b[0m                           \u001b[0myears\u001b[0m\u001b[1;33m,\u001b[0m \u001b[0mmonths\u001b[0m\u001b[1;33m,\u001b[0m \u001b[0mhours\u001b[0m\u001b[1;33m,\u001b[0m \u001b[0maltitudes\u001b[0m\u001b[1;33m,\u001b[0m \u001b[0mlocation\u001b[0m\u001b[1;33m,\u001b[0m \u001b[0mruntime\u001b[0m\u001b[1;33m,\u001b[0m \u001b[0mmeteoyr_2digits\u001b[0m\u001b[1;33m=\u001b[0m\u001b[1;32mFalse\u001b[0m\u001b[1;33m,\u001b[0m\u001b[1;33m\u001b[0m\u001b[0m\n\u001b[1;32m----> 4\u001b[1;33m                           monthslice=slice(0, 32, 5), meteo_bookends=([4, 5], [1]))\n\u001b[0m",
      "\u001b[1;32m~\\Anaconda3\\envs\\pysplitenv36\\lib\\site-packages\\pysplit\\trajectory_generator.py\u001b[0m in \u001b[0;36mgenerate_bulktraj\u001b[1;34m(basename, hysplit_working, output_dir, meteo_dir, years, months, hours, altitudes, coordinates, run, meteoyr_2digits, outputyr_2digits, monthslice, meteo_bookends, get_reverse, get_clipped, hysplit)\u001b[0m\n\u001b[0;32m    139\u001b[0m             \u001b[1;31m# Assemble list of meteorology files\u001b[0m\u001b[1;33m\u001b[0m\u001b[1;33m\u001b[0m\u001b[0m\n\u001b[0;32m    140\u001b[0m             meteofiles = _meteofinder(meteo_dir, meteo_bookends, m, y,\n\u001b[1;32m--> 141\u001b[1;33m                                       mon_dict, meteoyearfunc)\n\u001b[0m\u001b[0;32m    142\u001b[0m \u001b[1;33m\u001b[0m\u001b[0m\n\u001b[0;32m    143\u001b[0m             \u001b[0mcontrolyr\u001b[0m \u001b[1;33m=\u001b[0m \u001b[0mcontrolyearfunc\u001b[0m\u001b[1;33m(\u001b[0m\u001b[0my\u001b[0m\u001b[1;33m)\u001b[0m\u001b[1;33m\u001b[0m\u001b[0m\n",
      "\u001b[1;32m~\\Anaconda3\\envs\\pysplitenv36\\lib\\site-packages\\pysplit\\trajectory_generator.py\u001b[0m in \u001b[0;36m_meteofinder\u001b[1;34m(meteo_dir, meteo_bookends, mon, year, mon_dict, meteoyearfunc)\u001b[0m\n\u001b[0;32m    396\u001b[0m                     \u001b[0mmeteofiles\u001b[0m\u001b[1;33m.\u001b[0m\u001b[0mappend\u001b[0m\u001b[1;33m(\u001b[0m\u001b[0meach_file\u001b[0m\u001b[1;33m)\u001b[0m\u001b[1;33m\u001b[0m\u001b[0m\n\u001b[0;32m    397\u001b[0m             \u001b[1;32melif\u001b[0m \u001b[0mfnmatch\u001b[0m\u001b[1;33m.\u001b[0m\u001b[0mfnmatch\u001b[0m\u001b[1;33m(\u001b[0m\u001b[0meach_file\u001b[0m\u001b[1;33m,\u001b[0m \u001b[0mnxt\u001b[0m\u001b[1;33m)\u001b[0m\u001b[1;33m:\u001b[0m\u001b[1;33m\u001b[0m\u001b[0m\n\u001b[1;32m--> 398\u001b[1;33m                 \u001b[1;32mif\u001b[0m \u001b[0mint\u001b[0m\u001b[1;33m(\u001b[0m\u001b[0meach_file\u001b[0m\u001b[1;33m[\u001b[0m\u001b[0mfile_number\u001b[0m\u001b[1;33m]\u001b[0m\u001b[1;33m)\u001b[0m \u001b[1;32min\u001b[0m \u001b[0mmeteo_bookends\u001b[0m\u001b[1;33m[\u001b[0m\u001b[1;36m1\u001b[0m\u001b[1;33m]\u001b[0m\u001b[1;33m:\u001b[0m\u001b[1;33m\u001b[0m\u001b[0m\n\u001b[0m\u001b[0;32m    399\u001b[0m                     \u001b[0mmeteofiles\u001b[0m\u001b[1;33m.\u001b[0m\u001b[0mappend\u001b[0m\u001b[1;33m(\u001b[0m\u001b[0meach_file\u001b[0m\u001b[1;33m)\u001b[0m\u001b[1;33m\u001b[0m\u001b[0m\n\u001b[0;32m    400\u001b[0m \u001b[1;33m\u001b[0m\u001b[0m\n",
      "\u001b[1;31mValueError\u001b[0m: invalid literal for int() with base 10: 'l'"
     ]
    }
   ],
   "source": [
    "#Generate trajs\n",
    "py.generate_bulktraj(basename, working_dir, storage_dir, meteo_dir,\n",
    "                          years, months, hours, altitudes, location, runtime, meteoyr_2digits=False,\n",
    "                          monthslice=slice(0, 32, 5), meteo_bookends=([4, 5], [1]))"
   ]
  },
  {
   "cell_type": "code",
   "execution_count": 61,
   "metadata": {},
   "outputs": [
    {
     "data": {
      "text/plain": [
       "[1]"
      ]
     },
     "execution_count": 61,
     "metadata": {},
     "output_type": "execute_result"
    }
   ],
   "source": [
    "meteo_bookends[1]"
   ]
  },
  {
   "cell_type": "code",
   "execution_count": null,
   "metadata": {},
   "outputs": [],
   "source": []
  },
  {
   "cell_type": "code",
   "execution_count": null,
   "metadata": {},
   "outputs": [],
   "source": []
  }
 ],
 "metadata": {
  "kernelspec": {
   "display_name": "Python(pysplitenv36)",
   "language": "python",
   "name": "pysplitenv36"
  },
  "language_info": {
   "codemirror_mode": {
    "name": "ipython",
    "version": 3
   },
   "file_extension": ".py",
   "mimetype": "text/x-python",
   "name": "python",
   "nbconvert_exporter": "python",
   "pygments_lexer": "ipython3",
   "version": "3.6.5"
  }
 },
 "nbformat": 4,
 "nbformat_minor": 2
}
